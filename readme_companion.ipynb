{
 "cells": [
  {
   "cell_type": "markdown",
   "metadata": {},
   "source": [
    "# How to use it"
   ]
  },
  {
   "cell_type": "code",
   "execution_count": 1,
   "metadata": {
    "ExecuteTime": {
     "end_time": "2020-03-05T16:34:58.028323Z",
     "start_time": "2020-03-05T16:34:58.022338Z"
    }
   },
   "outputs": [],
   "source": [
    "class MyClass(object):\n",
    "\n",
    "    @property\n",
    "    def my_property(self):\n",
    "        # In reality, this might represent a database call or time\n",
    "        # intensive task like calling a third-party API.\n",
    "        print('Computing my_property...')  \n",
    "        return 42"
   ]
  },
  {
   "cell_type": "code",
   "execution_count": 2,
   "metadata": {
    "ExecuteTime": {
     "end_time": "2020-03-05T16:34:58.073202Z",
     "start_time": "2020-03-05T16:34:58.030318Z"
    }
   },
   "outputs": [
    {
     "name": "stdout",
     "output_type": "stream",
     "text": [
      "Computing my_property...\n"
     ]
    },
    {
     "data": {
      "text/plain": [
       "42"
      ]
     },
     "execution_count": 2,
     "metadata": {},
     "output_type": "execute_result"
    }
   ],
   "source": [
    "my_object = MyClass()\n",
    "my_object.my_property"
   ]
  },
  {
   "cell_type": "code",
   "execution_count": 3,
   "metadata": {
    "ExecuteTime": {
     "end_time": "2020-03-05T16:34:58.088163Z",
     "start_time": "2020-03-05T16:34:58.079186Z"
    }
   },
   "outputs": [
    {
     "name": "stdout",
     "output_type": "stream",
     "text": [
      "Computing my_property...\n"
     ]
    },
    {
     "data": {
      "text/plain": [
       "42"
      ]
     },
     "execution_count": 3,
     "metadata": {},
     "output_type": "execute_result"
    }
   ],
   "source": [
    "my_object.my_property"
   ]
  },
  {
   "cell_type": "code",
   "execution_count": 4,
   "metadata": {
    "ExecuteTime": {
     "end_time": "2020-03-05T16:34:58.116089Z",
     "start_time": "2020-03-05T16:34:58.095144Z"
    }
   },
   "outputs": [],
   "source": [
    "from cached_property import cached_property\n",
    "\n",
    "class MyClass(object):\n",
    "\n",
    "    @cached_property\n",
    "    def my_cached_property(self):\n",
    "        print('Computing my_cached_property...')\n",
    "        return 42"
   ]
  },
  {
   "cell_type": "code",
   "execution_count": 5,
   "metadata": {
    "ExecuteTime": {
     "end_time": "2020-03-05T16:34:58.130050Z",
     "start_time": "2020-03-05T16:34:58.119080Z"
    }
   },
   "outputs": [
    {
     "name": "stdout",
     "output_type": "stream",
     "text": [
      "Computing my_cached_property...\n"
     ]
    },
    {
     "data": {
      "text/plain": [
       "42"
      ]
     },
     "execution_count": 5,
     "metadata": {},
     "output_type": "execute_result"
    }
   ],
   "source": [
    "my_object = MyClass()\n",
    "my_object.my_cached_property"
   ]
  },
  {
   "cell_type": "code",
   "execution_count": 6,
   "metadata": {
    "ExecuteTime": {
     "end_time": "2020-03-05T16:34:58.140024Z",
     "start_time": "2020-03-05T16:34:58.132046Z"
    }
   },
   "outputs": [
    {
     "data": {
      "text/plain": [
       "42"
      ]
     },
     "execution_count": 6,
     "metadata": {},
     "output_type": "execute_result"
    }
   ],
   "source": [
    "my_object.my_cached_property"
   ]
  },
  {
   "cell_type": "markdown",
   "metadata": {},
   "source": [
    "# Inspecting the cache"
   ]
  },
  {
   "cell_type": "code",
   "execution_count": 7,
   "metadata": {
    "ExecuteTime": {
     "end_time": "2020-03-05T16:34:58.148999Z",
     "start_time": "2020-03-05T16:34:58.143016Z"
    }
   },
   "outputs": [],
   "source": [
    "from cached_property import cached_property, cached_properties, is_cached"
   ]
  },
  {
   "cell_type": "code",
   "execution_count": 8,
   "metadata": {
    "ExecuteTime": {
     "end_time": "2020-03-05T16:34:58.157986Z",
     "start_time": "2020-03-05T16:34:58.152990Z"
    }
   },
   "outputs": [],
   "source": [
    "class MyClass(object):\n",
    "\n",
    "    @cached_property\n",
    "    def my_cached_property(self):\n",
    "        print('Computing my_cached_property...')\n",
    "        return 42\n",
    "    \n",
    "    @cached_property\n",
    "    def my_second_cached_property(self):\n",
    "        print('Computing my_second_cached_property...')\n",
    "        return 51"
   ]
  },
  {
   "cell_type": "code",
   "execution_count": 9,
   "metadata": {
    "ExecuteTime": {
     "end_time": "2020-03-05T16:34:58.168946Z",
     "start_time": "2020-03-05T16:34:58.161965Z"
    }
   },
   "outputs": [],
   "source": [
    "my_object = MyClass()"
   ]
  },
  {
   "cell_type": "code",
   "execution_count": 10,
   "metadata": {
    "ExecuteTime": {
     "end_time": "2020-03-05T16:34:58.178919Z",
     "start_time": "2020-03-05T16:34:58.170941Z"
    }
   },
   "outputs": [
    {
     "name": "stdout",
     "output_type": "stream",
     "text": [
      "my_cached_property\n",
      "my_second_cached_property\n"
     ]
    }
   ],
   "source": [
    "for property_name in cached_properties(my_object):\n",
    "    print(property_name)"
   ]
  },
  {
   "cell_type": "code",
   "execution_count": 11,
   "metadata": {
    "ExecuteTime": {
     "end_time": "2020-03-05T16:34:58.188893Z",
     "start_time": "2020-03-05T16:34:58.180914Z"
    }
   },
   "outputs": [
    {
     "name": "stdout",
     "output_type": "stream",
     "text": [
      "Computing my_cached_property...\n"
     ]
    },
    {
     "data": {
      "text/plain": [
       "42"
      ]
     },
     "execution_count": 11,
     "metadata": {},
     "output_type": "execute_result"
    }
   ],
   "source": [
    "my_object.my_cached_property"
   ]
  },
  {
   "cell_type": "code",
   "execution_count": 12,
   "metadata": {
    "ExecuteTime": {
     "end_time": "2020-03-05T16:34:58.197870Z",
     "start_time": "2020-03-05T16:34:58.190890Z"
    }
   },
   "outputs": [
    {
     "data": {
      "text/plain": [
       "True"
      ]
     },
     "execution_count": 12,
     "metadata": {},
     "output_type": "execute_result"
    }
   ],
   "source": [
    "is_cached(my_object, 'my_cached_property')"
   ]
  },
  {
   "cell_type": "code",
   "execution_count": 13,
   "metadata": {
    "ExecuteTime": {
     "end_time": "2020-03-05T16:34:58.206845Z",
     "start_time": "2020-03-05T16:34:58.199864Z"
    }
   },
   "outputs": [
    {
     "data": {
      "text/plain": [
       "False"
      ]
     },
     "execution_count": 13,
     "metadata": {},
     "output_type": "execute_result"
    }
   ],
   "source": [
    "is_cached(my_object, 'my_second_cached_property')"
   ]
  },
  {
   "cell_type": "markdown",
   "metadata": {},
   "source": [
    "# Invalidating the cache"
   ]
  },
  {
   "cell_type": "code",
   "execution_count": 14,
   "metadata": {
    "ExecuteTime": {
     "end_time": "2020-03-05T16:34:58.215823Z",
     "start_time": "2020-03-05T16:34:58.208839Z"
    }
   },
   "outputs": [],
   "source": [
    "from cached_property import cached_property, un_cache, delete_cache"
   ]
  },
  {
   "cell_type": "code",
   "execution_count": 15,
   "metadata": {
    "ExecuteTime": {
     "end_time": "2020-03-05T16:34:58.224797Z",
     "start_time": "2020-03-05T16:34:58.218813Z"
    }
   },
   "outputs": [],
   "source": [
    "class MyClass(object):\n",
    "\n",
    "    @cached_property\n",
    "    def my_cached_property(self):\n",
    "        print('Computing my_cached_property...')\n",
    "        return 42\n",
    "    \n",
    "    @cached_property\n",
    "    def my_second_cached_property(self):\n",
    "        print('Computing my_second_cached_property...')\n",
    "        return 51"
   ]
  },
  {
   "cell_type": "code",
   "execution_count": 16,
   "metadata": {
    "ExecuteTime": {
     "end_time": "2020-03-05T16:34:58.233773Z",
     "start_time": "2020-03-05T16:34:58.226792Z"
    }
   },
   "outputs": [],
   "source": [
    "my_object = MyClass()"
   ]
  },
  {
   "cell_type": "code",
   "execution_count": 17,
   "metadata": {
    "ExecuteTime": {
     "end_time": "2020-03-05T16:34:58.243746Z",
     "start_time": "2020-03-05T16:34:58.234770Z"
    }
   },
   "outputs": [
    {
     "name": "stdout",
     "output_type": "stream",
     "text": [
      "Computing my_cached_property...\n"
     ]
    },
    {
     "data": {
      "text/plain": [
       "42"
      ]
     },
     "execution_count": 17,
     "metadata": {},
     "output_type": "execute_result"
    }
   ],
   "source": [
    "my_object.my_cached_property"
   ]
  },
  {
   "cell_type": "code",
   "execution_count": 18,
   "metadata": {
    "ExecuteTime": {
     "end_time": "2020-03-05T16:34:58.252723Z",
     "start_time": "2020-03-05T16:34:58.245741Z"
    }
   },
   "outputs": [
    {
     "name": "stdout",
     "output_type": "stream",
     "text": [
      "Computing my_second_cached_property...\n"
     ]
    },
    {
     "data": {
      "text/plain": [
       "51"
      ]
     },
     "execution_count": 18,
     "metadata": {},
     "output_type": "execute_result"
    }
   ],
   "source": [
    "my_object.my_second_cached_property"
   ]
  },
  {
   "cell_type": "code",
   "execution_count": 19,
   "metadata": {
    "ExecuteTime": {
     "end_time": "2020-03-05T16:34:58.260701Z",
     "start_time": "2020-03-05T16:34:58.253721Z"
    }
   },
   "outputs": [],
   "source": [
    "un_cache(my_object, 'my_cached_property')"
   ]
  },
  {
   "cell_type": "code",
   "execution_count": 20,
   "metadata": {
    "ExecuteTime": {
     "end_time": "2020-03-05T16:34:58.270674Z",
     "start_time": "2020-03-05T16:34:58.262696Z"
    }
   },
   "outputs": [
    {
     "name": "stdout",
     "output_type": "stream",
     "text": [
      "Computing my_cached_property...\n"
     ]
    },
    {
     "data": {
      "text/plain": [
       "42"
      ]
     },
     "execution_count": 20,
     "metadata": {},
     "output_type": "execute_result"
    }
   ],
   "source": [
    "my_object.my_cached_property"
   ]
  },
  {
   "cell_type": "code",
   "execution_count": 21,
   "metadata": {
    "ExecuteTime": {
     "end_time": "2020-03-05T16:34:58.278653Z",
     "start_time": "2020-03-05T16:34:58.271674Z"
    }
   },
   "outputs": [
    {
     "data": {
      "text/plain": [
       "51"
      ]
     },
     "execution_count": 21,
     "metadata": {},
     "output_type": "execute_result"
    }
   ],
   "source": [
    "my_object.my_second_cached_property"
   ]
  },
  {
   "cell_type": "code",
   "execution_count": 22,
   "metadata": {
    "ExecuteTime": {
     "end_time": "2020-03-05T16:34:58.286642Z",
     "start_time": "2020-03-05T16:34:58.279650Z"
    }
   },
   "outputs": [],
   "source": [
    "delete_cache(my_object)"
   ]
  },
  {
   "cell_type": "code",
   "execution_count": 23,
   "metadata": {
    "ExecuteTime": {
     "end_time": "2020-03-05T16:34:58.299597Z",
     "start_time": "2020-03-05T16:34:58.290621Z"
    }
   },
   "outputs": [
    {
     "name": "stdout",
     "output_type": "stream",
     "text": [
      "Computing my_cached_property...\n"
     ]
    },
    {
     "data": {
      "text/plain": [
       "42"
      ]
     },
     "execution_count": 23,
     "metadata": {},
     "output_type": "execute_result"
    }
   ],
   "source": [
    "my_object.my_cached_property"
   ]
  },
  {
   "cell_type": "code",
   "execution_count": 24,
   "metadata": {
    "ExecuteTime": {
     "end_time": "2020-03-05T16:34:58.307576Z",
     "start_time": "2020-03-05T16:34:58.301592Z"
    }
   },
   "outputs": [
    {
     "name": "stdout",
     "output_type": "stream",
     "text": [
      "Computing my_second_cached_property...\n"
     ]
    },
    {
     "data": {
      "text/plain": [
       "51"
      ]
     },
     "execution_count": 24,
     "metadata": {},
     "output_type": "execute_result"
    }
   ],
   "source": [
    "my_object.my_second_cached_property"
   ]
  },
  {
   "cell_type": "markdown",
   "metadata": {},
   "source": [
    "# Property deleting the cache"
   ]
  },
  {
   "cell_type": "code",
   "execution_count": 25,
   "metadata": {
    "ExecuteTime": {
     "end_time": "2020-03-05T16:34:58.314557Z",
     "start_time": "2020-03-05T16:34:58.309570Z"
    }
   },
   "outputs": [],
   "source": [
    "from cached_property import cached_property, property_deleting_cache"
   ]
  },
  {
   "cell_type": "code",
   "execution_count": 26,
   "metadata": {
    "ExecuteTime": {
     "end_time": "2020-03-05T16:34:58.322536Z",
     "start_time": "2020-03-05T16:34:58.316552Z"
    }
   },
   "outputs": [],
   "source": [
    "class MyClass(object):\n",
    "\n",
    "    def __init__(self, my_parameter):\n",
    "        self.my_parameter = my_parameter\n",
    "    \n",
    "    @property_deleting_cache\n",
    "    def my_parameter(self):\n",
    "        \"A parameter that deletes the cache when set or deleted.\"\n",
    "        print('Accessing my_parameter...')\n",
    "        \n",
    "    @cached_property\n",
    "    def my_cached_property(self):\n",
    "        print('Computing my_cached_property...')\n",
    "        return self.my_parameter + 1"
   ]
  },
  {
   "cell_type": "code",
   "execution_count": 27,
   "metadata": {
    "ExecuteTime": {
     "end_time": "2020-03-05T16:34:58.334504Z",
     "start_time": "2020-03-05T16:34:58.323533Z"
    }
   },
   "outputs": [
    {
     "name": "stdout",
     "output_type": "stream",
     "text": [
      "Computing my_cached_property...\n",
      "Accessing my_parameter...\n"
     ]
    },
    {
     "data": {
      "text/plain": [
       "42"
      ]
     },
     "execution_count": 27,
     "metadata": {},
     "output_type": "execute_result"
    }
   ],
   "source": [
    "my_object = MyClass(my_parameter=41)\n",
    "my_object.my_cached_property"
   ]
  },
  {
   "cell_type": "code",
   "execution_count": 28,
   "metadata": {
    "ExecuteTime": {
     "end_time": "2020-03-05T16:34:58.342483Z",
     "start_time": "2020-03-05T16:34:58.335501Z"
    }
   },
   "outputs": [
    {
     "data": {
      "text/plain": [
       "42"
      ]
     },
     "execution_count": 28,
     "metadata": {},
     "output_type": "execute_result"
    }
   ],
   "source": [
    "my_object.my_cached_property"
   ]
  },
  {
   "cell_type": "code",
   "execution_count": 29,
   "metadata": {
    "ExecuteTime": {
     "end_time": "2020-03-05T16:34:58.351459Z",
     "start_time": "2020-03-05T16:34:58.344478Z"
    }
   },
   "outputs": [
    {
     "name": "stdout",
     "output_type": "stream",
     "text": [
      "Computing my_cached_property...\n",
      "Accessing my_parameter...\n"
     ]
    },
    {
     "data": {
      "text/plain": [
       "51"
      ]
     },
     "execution_count": 29,
     "metadata": {},
     "output_type": "execute_result"
    }
   ],
   "source": [
    "my_object.my_parameter = 50\n",
    "my_object.my_cached_property"
   ]
  },
  {
   "cell_type": "code",
   "execution_count": 30,
   "metadata": {
    "ExecuteTime": {
     "end_time": "2020-03-05T16:34:58.361432Z",
     "start_time": "2020-03-05T16:34:58.352455Z"
    }
   },
   "outputs": [
    {
     "data": {
      "text/plain": [
       "51"
      ]
     },
     "execution_count": 30,
     "metadata": {},
     "output_type": "execute_result"
    }
   ],
   "source": [
    "my_object.my_cached_property"
   ]
  },
  {
   "cell_type": "markdown",
   "metadata": {},
   "source": [
    "# Working with Threads"
   ]
  },
  {
   "cell_type": "code",
   "execution_count": 31,
   "metadata": {
    "ExecuteTime": {
     "end_time": "2020-03-05T16:34:58.368413Z",
     "start_time": "2020-03-05T16:34:58.363428Z"
    }
   },
   "outputs": [],
   "source": [
    "from cached_property import threaded_cached_property\n",
    "\n",
    "class MyClass(object):\n",
    "\n",
    "    @threaded_cached_property\n",
    "    def my_cached_property(self):\n",
    "        print('Computing my_cached_property...')\n",
    "        return 42"
   ]
  },
  {
   "cell_type": "code",
   "execution_count": 32,
   "metadata": {
    "ExecuteTime": {
     "end_time": "2020-03-05T16:34:58.383374Z",
     "start_time": "2020-03-05T16:34:58.369411Z"
    }
   },
   "outputs": [
    {
     "name": "stdout",
     "output_type": "stream",
     "text": [
      "Computing my_cached_property...\n"
     ]
    }
   ],
   "source": [
    "from threading import Thread\n",
    "my_object = MyClass()\n",
    "threads = []\n",
    "for x in range(10):\n",
    "    thread = Thread(target=lambda: my_object.my_cached_property)\n",
    "    thread.start()\n",
    "    threads.append(thread)\n",
    "\n",
    "for thread in threads:\n",
    "    thread.join()"
   ]
  },
  {
   "cell_type": "markdown",
   "metadata": {},
   "source": [
    "# Working with async/await (Python 3.5+)"
   ]
  },
  {
   "cell_type": "code",
   "execution_count": 33,
   "metadata": {
    "ExecuteTime": {
     "end_time": "2020-03-05T16:34:58.394345Z",
     "start_time": "2020-03-05T16:34:58.385370Z"
    }
   },
   "outputs": [],
   "source": [
    "# This is just a trick to make asyncio work in jupyter.\n",
    "# Cf. https://markhneedham.com/blog/2019/05/10/jupyter-runtimeerror-this-event-loop-is-already-running/\n",
    "import nest_asyncio\n",
    "nest_asyncio.apply()"
   ]
  },
  {
   "cell_type": "code",
   "execution_count": 34,
   "metadata": {
    "ExecuteTime": {
     "end_time": "2020-03-05T16:34:58.402323Z",
     "start_time": "2020-03-05T16:34:58.396339Z"
    }
   },
   "outputs": [],
   "source": [
    "from cached_property import cached_property\n",
    "\n",
    "class MyClass(object):\n",
    "\n",
    "    @cached_property\n",
    "    async def my_cached_property(self):\n",
    "        print('Computing my_cached_property...')\n",
    "        return 42"
   ]
  },
  {
   "cell_type": "code",
   "execution_count": 35,
   "metadata": {
    "ExecuteTime": {
     "end_time": "2020-03-05T16:34:58.413302Z",
     "start_time": "2020-03-05T16:34:58.404317Z"
    }
   },
   "outputs": [
    {
     "name": "stdout",
     "output_type": "stream",
     "text": [
      "Computing my_cached_property...\n",
      "42\n",
      "42\n",
      "42\n"
     ]
    }
   ],
   "source": [
    "async def print_my_cached_property():\n",
    "    my_object = MyClass()\n",
    "    print(await my_object.my_cached_property)\n",
    "    print(await my_object.my_cached_property)\n",
    "    print(await my_object.my_cached_property)\n",
    "import asyncio\n",
    "asyncio.get_event_loop().run_until_complete(print_my_cached_property())"
   ]
  },
  {
   "cell_type": "markdown",
   "metadata": {},
   "source": [
    "# Timing out the cache"
   ]
  },
  {
   "cell_type": "code",
   "execution_count": 36,
   "metadata": {
    "ExecuteTime": {
     "end_time": "2020-03-05T16:34:58.420276Z",
     "start_time": "2020-03-05T16:34:58.415287Z"
    }
   },
   "outputs": [],
   "source": [
    "import random\n",
    "from cached_property import cached_property_with_ttl\n",
    "\n",
    "class MyClass(object):\n",
    "\n",
    "    @cached_property_with_ttl(ttl=2) # cache invalidates after 2 seconds\n",
    "    def my_cached_property(self):\n",
    "        return random.randint(1, 100)"
   ]
  },
  {
   "cell_type": "code",
   "execution_count": 37,
   "metadata": {
    "ExecuteTime": {
     "end_time": "2020-03-05T16:34:58.430248Z",
     "start_time": "2020-03-05T16:34:58.422269Z"
    }
   },
   "outputs": [],
   "source": [
    "my_object = MyClass()"
   ]
  },
  {
   "cell_type": "code",
   "execution_count": 38,
   "metadata": {
    "ExecuteTime": {
     "end_time": "2020-03-05T16:34:58.439223Z",
     "start_time": "2020-03-05T16:34:58.431245Z"
    }
   },
   "outputs": [
    {
     "data": {
      "text/plain": [
       "66"
      ]
     },
     "execution_count": 38,
     "metadata": {},
     "output_type": "execute_result"
    }
   ],
   "source": [
    "my_object.my_cached_property"
   ]
  },
  {
   "cell_type": "code",
   "execution_count": 39,
   "metadata": {
    "ExecuteTime": {
     "end_time": "2020-03-05T16:34:58.448200Z",
     "start_time": "2020-03-05T16:34:58.441218Z"
    }
   },
   "outputs": [
    {
     "data": {
      "text/plain": [
       "66"
      ]
     },
     "execution_count": 39,
     "metadata": {},
     "output_type": "execute_result"
    }
   ],
   "source": [
    "my_object.my_cached_property"
   ]
  },
  {
   "cell_type": "code",
   "execution_count": 40,
   "metadata": {
    "ExecuteTime": {
     "end_time": "2020-03-05T16:35:01.458856Z",
     "start_time": "2020-03-05T16:34:58.450195Z"
    }
   },
   "outputs": [],
   "source": [
    "from time import sleep\n",
    "sleep(3)  # Sleeps long enough to expire the cache"
   ]
  },
  {
   "cell_type": "code",
   "execution_count": 41,
   "metadata": {
    "ExecuteTime": {
     "end_time": "2020-03-05T16:35:01.485791Z",
     "start_time": "2020-03-05T16:35:01.466838Z"
    }
   },
   "outputs": [
    {
     "data": {
      "text/plain": [
       "45"
      ]
     },
     "execution_count": 41,
     "metadata": {},
     "output_type": "execute_result"
    }
   ],
   "source": [
    "my_object.my_cached_property"
   ]
  }
 ],
 "metadata": {
  "kernelspec": {
   "display_name": "Python 3",
   "language": "python",
   "name": "python3"
  },
  "language_info": {
   "codemirror_mode": {
    "name": "ipython",
    "version": 3
   },
   "file_extension": ".py",
   "mimetype": "text/x-python",
   "name": "python",
   "nbconvert_exporter": "python",
   "pygments_lexer": "ipython3",
   "version": "3.7.3"
  },
  "toc": {
   "base_numbering": 1,
   "nav_menu": {},
   "number_sections": false,
   "sideBar": true,
   "skip_h1_title": true,
   "title_cell": "Table of Contents",
   "title_sidebar": "Contents",
   "toc_cell": false,
   "toc_position": {},
   "toc_section_display": true,
   "toc_window_display": false
  }
 },
 "nbformat": 4,
 "nbformat_minor": 2
}
