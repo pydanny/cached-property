{
 "cells": [
  {
   "cell_type": "markdown",
   "metadata": {},
   "source": [
    "# How to use it"
   ]
  },
  {
   "cell_type": "code",
   "execution_count": 1,
   "metadata": {
    "ExecuteTime": {
     "end_time": "2020-03-05T16:07:40.866135Z",
     "start_time": "2020-03-05T16:07:40.860150Z"
    }
   },
   "outputs": [],
   "source": [
    "class MyClass(object):\n",
    "\n",
    "    @property\n",
    "    def my_property(self):\n",
    "        # In reality, this might represent a database call or time\n",
    "        # intensive task like calling a third-party API.\n",
    "        print('Computing my_property...')  \n",
    "        return 42"
   ]
  },
  {
   "cell_type": "code",
   "execution_count": 2,
   "metadata": {
    "ExecuteTime": {
     "end_time": "2020-03-05T16:07:40.896052Z",
     "start_time": "2020-03-05T16:07:40.870124Z"
    }
   },
   "outputs": [
    {
     "name": "stdout",
     "output_type": "stream",
     "text": [
      "Computing my_property...\n"
     ]
    },
    {
     "data": {
      "text/plain": [
       "42"
      ]
     },
     "execution_count": 2,
     "metadata": {},
     "output_type": "execute_result"
    }
   ],
   "source": [
    "my_object = MyClass()\n",
    "my_object.my_property"
   ]
  },
  {
   "cell_type": "code",
   "execution_count": 3,
   "metadata": {
    "ExecuteTime": {
     "end_time": "2020-03-05T16:07:40.904031Z",
     "start_time": "2020-03-05T16:07:40.898047Z"
    }
   },
   "outputs": [
    {
     "name": "stdout",
     "output_type": "stream",
     "text": [
      "Computing my_property...\n"
     ]
    },
    {
     "data": {
      "text/plain": [
       "42"
      ]
     },
     "execution_count": 3,
     "metadata": {},
     "output_type": "execute_result"
    }
   ],
   "source": [
    "my_object.my_property"
   ]
  },
  {
   "cell_type": "code",
   "execution_count": 4,
   "metadata": {
    "ExecuteTime": {
     "end_time": "2020-03-05T16:07:40.912050Z",
     "start_time": "2020-03-05T16:07:40.906027Z"
    }
   },
   "outputs": [],
   "source": [
    "from cached_property import cached_property\n",
    "\n",
    "class MyClass(object):\n",
    "\n",
    "    @cached_property\n",
    "    def my_cached_property(self):\n",
    "        print('Computing my_cached_property...')\n",
    "        return 42"
   ]
  },
  {
   "cell_type": "code",
   "execution_count": 5,
   "metadata": {
    "ExecuteTime": {
     "end_time": "2020-03-05T16:07:40.923034Z",
     "start_time": "2020-03-05T16:07:40.914005Z"
    }
   },
   "outputs": [
    {
     "name": "stdout",
     "output_type": "stream",
     "text": [
      "Computing my_cached_property...\n"
     ]
    },
    {
     "data": {
      "text/plain": [
       "42"
      ]
     },
     "execution_count": 5,
     "metadata": {},
     "output_type": "execute_result"
    }
   ],
   "source": [
    "my_object = MyClass()\n",
    "my_object.my_cached_property"
   ]
  },
  {
   "cell_type": "code",
   "execution_count": 6,
   "metadata": {
    "ExecuteTime": {
     "end_time": "2020-03-05T16:07:40.930992Z",
     "start_time": "2020-03-05T16:07:40.924977Z"
    }
   },
   "outputs": [
    {
     "data": {
      "text/plain": [
       "42"
      ]
     },
     "execution_count": 6,
     "metadata": {},
     "output_type": "execute_result"
    }
   ],
   "source": [
    "my_object.my_cached_property"
   ]
  },
  {
   "cell_type": "markdown",
   "metadata": {},
   "source": [
    "# Inspecting the cache"
   ]
  },
  {
   "cell_type": "code",
   "execution_count": 7,
   "metadata": {
    "ExecuteTime": {
     "end_time": "2020-03-05T16:07:40.940933Z",
     "start_time": "2020-03-05T16:07:40.932954Z"
    }
   },
   "outputs": [],
   "source": [
    "from cached_property import cached_property, cached_properties, is_cached"
   ]
  },
  {
   "cell_type": "code",
   "execution_count": 8,
   "metadata": {
    "ExecuteTime": {
     "end_time": "2020-03-05T16:07:40.948911Z",
     "start_time": "2020-03-05T16:07:40.942927Z"
    }
   },
   "outputs": [],
   "source": [
    "class MyClass(object):\n",
    "\n",
    "    @cached_property\n",
    "    def my_cached_property(self):\n",
    "        print('Computing my_cached_property...')\n",
    "        return 42\n",
    "    \n",
    "    @cached_property\n",
    "    def my_second_cached_property(self):\n",
    "        print('Computing my_second_cached_property...')\n",
    "        return 51"
   ]
  },
  {
   "cell_type": "code",
   "execution_count": 9,
   "metadata": {
    "ExecuteTime": {
     "end_time": "2020-03-05T16:07:40.956891Z",
     "start_time": "2020-03-05T16:07:40.950906Z"
    }
   },
   "outputs": [],
   "source": [
    "my_object = MyClass()"
   ]
  },
  {
   "cell_type": "code",
   "execution_count": 10,
   "metadata": {
    "ExecuteTime": {
     "end_time": "2020-03-05T16:07:40.965899Z",
     "start_time": "2020-03-05T16:07:40.958885Z"
    }
   },
   "outputs": [
    {
     "name": "stdout",
     "output_type": "stream",
     "text": [
      "my_cached_property\n",
      "my_second_cached_property\n"
     ]
    }
   ],
   "source": [
    "for property_name in cached_properties(my_object):\n",
    "    print(property_name)"
   ]
  },
  {
   "cell_type": "code",
   "execution_count": 11,
   "metadata": {
    "ExecuteTime": {
     "end_time": "2020-03-05T16:07:40.977835Z",
     "start_time": "2020-03-05T16:07:40.967861Z"
    }
   },
   "outputs": [
    {
     "name": "stdout",
     "output_type": "stream",
     "text": [
      "Computing my_cached_property...\n"
     ]
    },
    {
     "data": {
      "text/plain": [
       "42"
      ]
     },
     "execution_count": 11,
     "metadata": {},
     "output_type": "execute_result"
    }
   ],
   "source": [
    "my_object.my_cached_property"
   ]
  },
  {
   "cell_type": "code",
   "execution_count": 12,
   "metadata": {
    "ExecuteTime": {
     "end_time": "2020-03-05T16:07:40.985813Z",
     "start_time": "2020-03-05T16:07:40.978832Z"
    }
   },
   "outputs": [
    {
     "data": {
      "text/plain": [
       "True"
      ]
     },
     "execution_count": 12,
     "metadata": {},
     "output_type": "execute_result"
    }
   ],
   "source": [
    "is_cached(my_object, 'my_cached_property')"
   ]
  },
  {
   "cell_type": "code",
   "execution_count": 13,
   "metadata": {
    "ExecuteTime": {
     "end_time": "2020-03-05T16:07:40.997781Z",
     "start_time": "2020-03-05T16:07:40.988807Z"
    }
   },
   "outputs": [
    {
     "data": {
      "text/plain": [
       "False"
      ]
     },
     "execution_count": 13,
     "metadata": {},
     "output_type": "execute_result"
    }
   ],
   "source": [
    "is_cached(my_object, 'my_second_cached_property')"
   ]
  },
  {
   "cell_type": "markdown",
   "metadata": {},
   "source": [
    "# Invalidating the cache"
   ]
  },
  {
   "cell_type": "code",
   "execution_count": 14,
   "metadata": {
    "ExecuteTime": {
     "end_time": "2020-03-05T16:07:41.005760Z",
     "start_time": "2020-03-05T16:07:40.998778Z"
    }
   },
   "outputs": [],
   "source": [
    "from cached_property import cached_property, un_cache, delete_cache"
   ]
  },
  {
   "cell_type": "code",
   "execution_count": 15,
   "metadata": {
    "ExecuteTime": {
     "end_time": "2020-03-05T16:07:41.015734Z",
     "start_time": "2020-03-05T16:07:41.007754Z"
    }
   },
   "outputs": [],
   "source": [
    "class MyClass(object):\n",
    "\n",
    "    @cached_property\n",
    "    def my_cached_property(self):\n",
    "        print('Computing my_cached_property...')\n",
    "        return 42\n",
    "    \n",
    "    @cached_property\n",
    "    def my_second_cached_property(self):\n",
    "        print('Computing my_second_cached_property...')\n",
    "        return 51"
   ]
  },
  {
   "cell_type": "code",
   "execution_count": 16,
   "metadata": {
    "ExecuteTime": {
     "end_time": "2020-03-05T16:07:41.025707Z",
     "start_time": "2020-03-05T16:07:41.017728Z"
    }
   },
   "outputs": [],
   "source": [
    "my_object = MyClass()"
   ]
  },
  {
   "cell_type": "code",
   "execution_count": 17,
   "metadata": {
    "ExecuteTime": {
     "end_time": "2020-03-05T16:07:41.035680Z",
     "start_time": "2020-03-05T16:07:41.026705Z"
    }
   },
   "outputs": [
    {
     "name": "stdout",
     "output_type": "stream",
     "text": [
      "Computing my_cached_property...\n"
     ]
    },
    {
     "data": {
      "text/plain": [
       "42"
      ]
     },
     "execution_count": 17,
     "metadata": {},
     "output_type": "execute_result"
    }
   ],
   "source": [
    "my_object.my_cached_property"
   ]
  },
  {
   "cell_type": "code",
   "execution_count": 18,
   "metadata": {
    "ExecuteTime": {
     "end_time": "2020-03-05T16:07:41.044655Z",
     "start_time": "2020-03-05T16:07:41.037687Z"
    }
   },
   "outputs": [
    {
     "name": "stdout",
     "output_type": "stream",
     "text": [
      "Computing my_second_cached_property...\n"
     ]
    },
    {
     "data": {
      "text/plain": [
       "51"
      ]
     },
     "execution_count": 18,
     "metadata": {},
     "output_type": "execute_result"
    }
   ],
   "source": [
    "my_object.my_second_cached_property"
   ]
  },
  {
   "cell_type": "code",
   "execution_count": 19,
   "metadata": {
    "ExecuteTime": {
     "end_time": "2020-03-05T16:07:41.054632Z",
     "start_time": "2020-03-05T16:07:41.047648Z"
    }
   },
   "outputs": [],
   "source": [
    "un_cache(my_object, 'my_cached_property')"
   ]
  },
  {
   "cell_type": "code",
   "execution_count": 20,
   "metadata": {
    "ExecuteTime": {
     "end_time": "2020-03-05T16:07:41.067596Z",
     "start_time": "2020-03-05T16:07:41.058620Z"
    }
   },
   "outputs": [
    {
     "name": "stdout",
     "output_type": "stream",
     "text": [
      "Computing my_cached_property...\n"
     ]
    },
    {
     "data": {
      "text/plain": [
       "42"
      ]
     },
     "execution_count": 20,
     "metadata": {},
     "output_type": "execute_result"
    }
   ],
   "source": [
    "my_object.my_cached_property"
   ]
  },
  {
   "cell_type": "code",
   "execution_count": 21,
   "metadata": {
    "ExecuteTime": {
     "end_time": "2020-03-05T16:07:41.077568Z",
     "start_time": "2020-03-05T16:07:41.069590Z"
    }
   },
   "outputs": [
    {
     "data": {
      "text/plain": [
       "51"
      ]
     },
     "execution_count": 21,
     "metadata": {},
     "output_type": "execute_result"
    }
   ],
   "source": [
    "my_object.my_second_cached_property"
   ]
  },
  {
   "cell_type": "code",
   "execution_count": 22,
   "metadata": {
    "ExecuteTime": {
     "end_time": "2020-03-05T16:07:41.086583Z",
     "start_time": "2020-03-05T16:07:41.079562Z"
    }
   },
   "outputs": [],
   "source": [
    "delete_cache(my_object)"
   ]
  },
  {
   "cell_type": "code",
   "execution_count": 23,
   "metadata": {
    "ExecuteTime": {
     "end_time": "2020-03-05T16:07:41.097515Z",
     "start_time": "2020-03-05T16:07:41.088538Z"
    }
   },
   "outputs": [
    {
     "name": "stdout",
     "output_type": "stream",
     "text": [
      "Computing my_cached_property...\n"
     ]
    },
    {
     "data": {
      "text/plain": [
       "42"
      ]
     },
     "execution_count": 23,
     "metadata": {},
     "output_type": "execute_result"
    }
   ],
   "source": [
    "my_object.my_cached_property"
   ]
  },
  {
   "cell_type": "code",
   "execution_count": 24,
   "metadata": {
    "ExecuteTime": {
     "end_time": "2020-03-05T16:07:41.107488Z",
     "start_time": "2020-03-05T16:07:41.098512Z"
    }
   },
   "outputs": [
    {
     "name": "stdout",
     "output_type": "stream",
     "text": [
      "Computing my_second_cached_property...\n"
     ]
    },
    {
     "data": {
      "text/plain": [
       "51"
      ]
     },
     "execution_count": 24,
     "metadata": {},
     "output_type": "execute_result"
    }
   ],
   "source": [
    "my_object.my_second_cached_property"
   ]
  },
  {
   "cell_type": "markdown",
   "metadata": {},
   "source": [
    "# Property deleting the cache"
   ]
  },
  {
   "cell_type": "code",
   "execution_count": 25,
   "metadata": {
    "ExecuteTime": {
     "end_time": "2020-03-05T16:07:41.115466Z",
     "start_time": "2020-03-05T16:07:41.108485Z"
    }
   },
   "outputs": [],
   "source": [
    "from cached_property import cached_property, property_deleting_cache"
   ]
  },
  {
   "cell_type": "code",
   "execution_count": 26,
   "metadata": {
    "ExecuteTime": {
     "end_time": "2020-03-05T16:07:41.124442Z",
     "start_time": "2020-03-05T16:07:41.116463Z"
    }
   },
   "outputs": [],
   "source": [
    "class MyClass(object):\n",
    "\n",
    "    def __init__(self, my_parameter):\n",
    "        self.my_parameter = my_parameter\n",
    "    \n",
    "    @property_deleting_cache\n",
    "    def my_parameter(self):\n",
    "        \"A parameter that deletes the cache when set or deleted.\"\n",
    "        print('Accessing my_parameter...')\n",
    "        \n",
    "    @cached_property\n",
    "    def my_cached_property(self):\n",
    "        print('Computing my_cached_property...')\n",
    "        return self.my_parameter + 1"
   ]
  },
  {
   "cell_type": "code",
   "execution_count": 27,
   "metadata": {
    "ExecuteTime": {
     "end_time": "2020-03-05T16:07:41.136422Z",
     "start_time": "2020-03-05T16:07:41.125440Z"
    }
   },
   "outputs": [
    {
     "name": "stdout",
     "output_type": "stream",
     "text": [
      "Computing my_cached_property...\n",
      "Accessing my_parameter...\n"
     ]
    },
    {
     "data": {
      "text/plain": [
       "42"
      ]
     },
     "execution_count": 27,
     "metadata": {},
     "output_type": "execute_result"
    }
   ],
   "source": [
    "my_object = MyClass(my_parameter=41)\n",
    "my_object.my_cached_property"
   ]
  },
  {
   "cell_type": "code",
   "execution_count": 28,
   "metadata": {
    "ExecuteTime": {
     "end_time": "2020-03-05T16:07:41.145387Z",
     "start_time": "2020-03-05T16:07:41.138405Z"
    }
   },
   "outputs": [
    {
     "data": {
      "text/plain": [
       "42"
      ]
     },
     "execution_count": 28,
     "metadata": {},
     "output_type": "execute_result"
    }
   ],
   "source": [
    "my_object.my_cached_property"
   ]
  },
  {
   "cell_type": "code",
   "execution_count": 29,
   "metadata": {
    "ExecuteTime": {
     "end_time": "2020-03-05T16:07:41.154370Z",
     "start_time": "2020-03-05T16:07:41.146384Z"
    }
   },
   "outputs": [
    {
     "name": "stdout",
     "output_type": "stream",
     "text": [
      "Computing my_cached_property...\n",
      "Accessing my_parameter...\n"
     ]
    },
    {
     "data": {
      "text/plain": [
       "51"
      ]
     },
     "execution_count": 29,
     "metadata": {},
     "output_type": "execute_result"
    }
   ],
   "source": [
    "my_object.my_parameter = 50\n",
    "my_object.my_cached_property"
   ]
  },
  {
   "cell_type": "code",
   "execution_count": 30,
   "metadata": {
    "ExecuteTime": {
     "end_time": "2020-03-05T16:07:41.163339Z",
     "start_time": "2020-03-05T16:07:41.156358Z"
    }
   },
   "outputs": [
    {
     "data": {
      "text/plain": [
       "51"
      ]
     },
     "execution_count": 30,
     "metadata": {},
     "output_type": "execute_result"
    }
   ],
   "source": [
    "my_object.my_cached_property"
   ]
  },
  {
   "cell_type": "markdown",
   "metadata": {},
   "source": [
    "# Working with Threads"
   ]
  },
  {
   "cell_type": "code",
   "execution_count": 31,
   "metadata": {
    "ExecuteTime": {
     "end_time": "2020-03-05T16:07:41.172316Z",
     "start_time": "2020-03-05T16:07:41.165334Z"
    }
   },
   "outputs": [],
   "source": [
    "from cached_property import threaded_cached_property\n",
    "\n",
    "class MyClass(object):\n",
    "\n",
    "    @threaded_cached_property\n",
    "    def my_cached_property(self):\n",
    "        print('Computing my_cached_property...')\n",
    "        return 42"
   ]
  },
  {
   "cell_type": "code",
   "execution_count": 32,
   "metadata": {
    "ExecuteTime": {
     "end_time": "2020-03-05T16:07:41.187282Z",
     "start_time": "2020-03-05T16:07:41.173313Z"
    }
   },
   "outputs": [
    {
     "name": "stdout",
     "output_type": "stream",
     "text": [
      "Computing my_cached_property...\n"
     ]
    }
   ],
   "source": [
    "from threading import Thread\n",
    "my_object = MyClass()\n",
    "threads = []\n",
    "for x in range(10):\n",
    "    thread = Thread(target=lambda: my_object.my_cached_property)\n",
    "    thread.start()\n",
    "    threads.append(thread)\n",
    "\n",
    "for thread in threads:\n",
    "    thread.join()"
   ]
  },
  {
   "cell_type": "markdown",
   "metadata": {},
   "source": [
    "# Working with async/await (Python 3.5+)"
   ]
  },
  {
   "cell_type": "code",
   "execution_count": 33,
   "metadata": {
    "ExecuteTime": {
     "end_time": "2020-03-05T16:07:41.194255Z",
     "start_time": "2020-03-05T16:07:41.189269Z"
    }
   },
   "outputs": [],
   "source": [
    "# This is just a trick to make asyncio work in jupyter.\n",
    "# Cf. https://markhneedham.com/blog/2019/05/10/jupyter-runtimeerror-this-event-loop-is-already-running/\n",
    "import nest_asyncio\n",
    "nest_asyncio.apply()"
   ]
  },
  {
   "cell_type": "code",
   "execution_count": 34,
   "metadata": {
    "ExecuteTime": {
     "end_time": "2020-03-05T16:07:41.202234Z",
     "start_time": "2020-03-05T16:07:41.195252Z"
    }
   },
   "outputs": [],
   "source": [
    "from cached_property import cached_property\n",
    "\n",
    "class MyClass(object):\n",
    "\n",
    "    @cached_property\n",
    "    async def my_cached_property(self):\n",
    "        print('Computing my_cached_property...')\n",
    "        return 42"
   ]
  },
  {
   "cell_type": "code",
   "execution_count": 35,
   "metadata": {
    "ExecuteTime": {
     "end_time": "2020-03-05T16:07:41.213205Z",
     "start_time": "2020-03-05T16:07:41.204229Z"
    }
   },
   "outputs": [
    {
     "name": "stdout",
     "output_type": "stream",
     "text": [
      "Computing my_cached_property...\n",
      "42\n",
      "42\n",
      "42\n"
     ]
    }
   ],
   "source": [
    "async def print_my_cached_property():\n",
    "    my_object = MyClass()\n",
    "    print(await my_object.my_cached_property)\n",
    "    print(await my_object.my_cached_property)\n",
    "    print(await my_object.my_cached_property)\n",
    "import asyncio\n",
    "asyncio.get_event_loop().run_until_complete(print_my_cached_property())"
   ]
  },
  {
   "cell_type": "markdown",
   "metadata": {},
   "source": [
    "# Timing out the cache"
   ]
  },
  {
   "cell_type": "code",
   "execution_count": 36,
   "metadata": {
    "ExecuteTime": {
     "end_time": "2020-03-05T16:07:41.221185Z",
     "start_time": "2020-03-05T16:07:41.215199Z"
    }
   },
   "outputs": [],
   "source": [
    "import random\n",
    "from cached_property import cached_property_with_ttl\n",
    "\n",
    "class MyClass(object):\n",
    "\n",
    "    @cached_property_with_ttl(ttl=2) # cache invalidates after 2 seconds\n",
    "    def my_cached_property(self):\n",
    "        return random.random()"
   ]
  },
  {
   "cell_type": "code",
   "execution_count": 37,
   "metadata": {
    "ExecuteTime": {
     "end_time": "2020-03-05T16:07:41.230161Z",
     "start_time": "2020-03-05T16:07:41.223179Z"
    }
   },
   "outputs": [],
   "source": [
    "my_object = MyClass()"
   ]
  },
  {
   "cell_type": "code",
   "execution_count": 38,
   "metadata": {
    "ExecuteTime": {
     "end_time": "2020-03-05T16:07:41.242128Z",
     "start_time": "2020-03-05T16:07:41.232154Z"
    }
   },
   "outputs": [
    {
     "data": {
      "text/plain": [
       "0.4770410300930312"
      ]
     },
     "execution_count": 38,
     "metadata": {},
     "output_type": "execute_result"
    }
   ],
   "source": [
    "my_object.my_cached_property"
   ]
  },
  {
   "cell_type": "code",
   "execution_count": 39,
   "metadata": {
    "ExecuteTime": {
     "end_time": "2020-03-05T16:07:41.255093Z",
     "start_time": "2020-03-05T16:07:41.244123Z"
    }
   },
   "outputs": [
    {
     "data": {
      "text/plain": [
       "0.4770410300930312"
      ]
     },
     "execution_count": 39,
     "metadata": {},
     "output_type": "execute_result"
    }
   ],
   "source": [
    "my_object.my_cached_property"
   ]
  },
  {
   "cell_type": "code",
   "execution_count": 40,
   "metadata": {
    "ExecuteTime": {
     "end_time": "2020-03-05T16:07:44.264416Z",
     "start_time": "2020-03-05T16:07:41.257088Z"
    }
   },
   "outputs": [],
   "source": [
    "from time import sleep\n",
    "sleep(3)  # Sleeps long enough to expire the cache"
   ]
  },
  {
   "cell_type": "code",
   "execution_count": 41,
   "metadata": {
    "ExecuteTime": {
     "end_time": "2020-03-05T16:07:44.287350Z",
     "start_time": "2020-03-05T16:07:44.272390Z"
    }
   },
   "outputs": [
    {
     "data": {
      "text/plain": [
       "0.259086428146758"
      ]
     },
     "execution_count": 41,
     "metadata": {},
     "output_type": "execute_result"
    }
   ],
   "source": [
    "my_object.my_cached_property"
   ]
  }
 ],
 "metadata": {
  "kernelspec": {
   "display_name": "Python 3",
   "language": "python",
   "name": "python3"
  },
  "language_info": {
   "codemirror_mode": {
    "name": "ipython",
    "version": 3
   },
   "file_extension": ".py",
   "mimetype": "text/x-python",
   "name": "python",
   "nbconvert_exporter": "python",
   "pygments_lexer": "ipython3",
   "version": "3.7.3"
  },
  "toc": {
   "base_numbering": 1,
   "nav_menu": {},
   "number_sections": false,
   "sideBar": true,
   "skip_h1_title": true,
   "title_cell": "Table of Contents",
   "title_sidebar": "Contents",
   "toc_cell": false,
   "toc_position": {},
   "toc_section_display": true,
   "toc_window_display": false
  }
 },
 "nbformat": 4,
 "nbformat_minor": 2
}
